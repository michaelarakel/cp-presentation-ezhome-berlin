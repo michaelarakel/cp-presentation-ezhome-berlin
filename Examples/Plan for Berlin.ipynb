{
 "cells": [
  {
   "cell_type": "code",
   "execution_count": 1,
   "metadata": {
    "collapsed": true
   },
   "outputs": [],
   "source": [
    "from __future__ import print_function\n",
    "\n",
    "import datetime\n",
    "import math\n",
    "import json\n",
    "import six\n",
    "import webbrowser\n",
    "\n",
    "from ortools.constraint_solver import pywrapcp\n",
    "from draw_map import draw_paths"
   ]
  },
  {
   "cell_type": "code",
   "execution_count": 2,
   "metadata": {
    "collapsed": true
   },
   "outputs": [],
   "source": [
    "AVERAGE_SPEED_MPH = 50000"
   ]
  },
  {
   "cell_type": "code",
   "execution_count": 3,
   "metadata": {
    "collapsed": true
   },
   "outputs": [],
   "source": [
    "def get_total_seconds(time_slot):\n",
    "    if time_slot is None:\n",
    "        return None\n",
    "    if isinstance(time_slot, six.string_types):\n",
    "        time_slot = datetime.datetime.strptime(time_slot, '%H:%M:%S')\n",
    "\n",
    "    return (\n",
    "        time_slot.hour * 3600 + time_slot.minute * 60 + time_slot.second)"
   ]
  },
  {
   "cell_type": "code",
   "execution_count": 4,
   "metadata": {
    "collapsed": true
   },
   "outputs": [],
   "source": [
    "def crow_fly_distance(origin_location, destination_location):\n",
    "    # Radius of the earth in meters.\n",
    "    earth_radius = 6371 * 1000\n",
    "    # Formula source : http://www.movable-type.co.uk/scripts/latlong.html.\n",
    "    delta_lat = math.radians(\n",
    "        float(destination_location['latitude']) - float(origin_location['latitude'])\n",
    "    )\n",
    "    delta_lng = math.radians(\n",
    "        float(destination_location['longitude']) - float(origin_location['longitude'])\n",
    "    )\n",
    "\n",
    "    a = (\n",
    "        math.sin(delta_lat / 2.0) * math.sin(delta_lat / 2.0) +\n",
    "        math.cos(math.radians(origin_location['latitude'])) *\n",
    "        math.cos(math.radians(destination_location['latitude'])) *\n",
    "        math.sin(delta_lng / 2.0) * math.sin(delta_lng / 2.0))\n",
    "    return earth_radius * 2.0 * math.atan2(\n",
    "        math.sqrt(a), math.sqrt(1.0 - a))"
   ]
  },
  {
   "cell_type": "code",
   "execution_count": 5,
   "metadata": {
    "collapsed": true
   },
   "outputs": [],
   "source": [
    "def crow_fly_duration(origin_location, destination_location):\n",
    "    return int(crow_fly_distance(\n",
    "        origin_location, destination_location) / AVERAGE_SPEED_MPH * 3600)"
   ]
  },
  {
   "cell_type": "code",
   "execution_count": 6,
   "metadata": {
    "collapsed": true
   },
   "outputs": [],
   "source": [
    "class OptimizationModel(object):\n",
    "    def __init__(self, visits, start_indexes, end_indexes):\n",
    "        self.visits = visits\n",
    "        self.start_indexes = start_indexes\n",
    "        self.end_indexes = end_indexes\n",
    "        self.index_to_visit = dict(\n",
    "            list(enumerate(visits))\n",
    "        )\n",
    "\n",
    "        for start_index in self.start_indexes:\n",
    "            assert 0 <= start_index < len(visits)\n",
    "\n",
    "        assert len(self.start_indexes) == len(set(self.start_indexes))\n",
    "        assert len(self.end_indexes) == len(set(self.end_indexes))\n",
    "        assert len(self.start_indexes) == len(self.end_indexes)\n",
    "\n",
    "        self.number_of_vehicles = len(self.start_indexes)\n",
    "\n",
    "        self.routing_model = pywrapcp.RoutingModel(\n",
    "            len(self.visits), self.number_of_vehicles,\n",
    "            self.start_indexes,\n",
    "            self.end_indexes\n",
    "        )\n",
    "        self.solution = None\n",
    "        self.time_dimension = None\n",
    "        self.day_duraiton = 16 * 3600  # 16 hours\n",
    "\n",
    "    def solve(self):\n",
    "        if self.solution is not None:\n",
    "            print('Solution already found, use show() to see the results')\n",
    "            return\n",
    "\n",
    "        parameters = self.routing_model.DefaultSearchParameters()\n",
    "        parameters.log_search = True\n",
    "        distance_function = self.distance_function_callback()\n",
    "        self.routing_model.SetArcCostEvaluatorOfAllVehicles(\n",
    "            distance_function\n",
    "        )\n",
    "\n",
    "        solution = self.routing_model.SolveWithParameters(parameters)\n",
    "\n",
    "        if not solution:\n",
    "            print('No solution :(')\n",
    "            return\n",
    "        self.solution = solution\n",
    "        print(\n",
    "            'Found solution! Total distance: {0} km'.format(\n",
    "                self.solution.ObjectiveValue() / 100 / 1000\n",
    "            )\n",
    "        )\n",
    "\n",
    "    def show(self):\n",
    "        if self.solution is None:\n",
    "            print('Solution not found yet')\n",
    "            return\n",
    "\n",
    "        all_paths = []\n",
    "\n",
    "        for vehicle_number in range(self.number_of_vehicles):\n",
    "            vehicle_route = self.get_route_of_vehicle(vehicle_number)\n",
    "            all_paths.append([\n",
    "                self.serialize_visit_for_map(visit_index)\n",
    "                for visit_index in vehicle_route\n",
    "            ])\n",
    "\n",
    "        center = self.serialize_visit_for_map(self.start_indexes[0])\n",
    "\n",
    "        draw_paths(\n",
    "            center=[center[0], center[1]],\n",
    "            paths=all_paths,\n",
    "            file_name='output.html'\n",
    "        )\n",
    "        return 'output.html'\n",
    "\n",
    "    def get_route_of_vehicle(self, vehicle_number):\n",
    "        route = []\n",
    "        current_index = self.routing_model.Start(vehicle_number)\n",
    "        while not self.routing_model.IsEnd(current_index):\n",
    "            route.append(\n",
    "                self.routing_model.IndexToNode(current_index)\n",
    "            )\n",
    "            current_index = self.solution.Value(\n",
    "                self.routing_model.NextVar(current_index)\n",
    "            )\n",
    "        route.append(self.routing_model.IndexToNode(current_index))\n",
    "        return route\n",
    "\n",
    "    def convert_index_route_to_visit_route(self, route):\n",
    "        return [\n",
    "            self.visits[index]\n",
    "            for index in route\n",
    "        ]\n",
    "\n",
    "    def serialize_visit_for_map(self, index):\n",
    "        visit = self.index_to_visit[index]\n",
    "        return (\n",
    "            visit['coordinates']['latitude'], visit['coordinates']['longitude'],\n",
    "            visit['id']\n",
    "        )\n",
    "\n",
    "    def get_node_location(self, node):\n",
    "        return self.index_to_visit[node]['coordinates']\n",
    "\n",
    "    def get_node_duration(self, node):\n",
    "        return int(self.index_to_visit[node]['duration'] * 3600)\n",
    "\n",
    "    def distance_function_callback(self):\n",
    "        node_to_location = {\n",
    "            node: self.get_node_location(node)\n",
    "            for node in range(self.routing_model.nodes())\n",
    "        }\n",
    "\n",
    "        def distance_callback(from_node, to_node):\n",
    "            from_location = node_to_location[from_node]\n",
    "            to_location = node_to_location[to_node]\n",
    "            return int(100 * crow_fly_distance(from_location, to_location))\n",
    "\n",
    "        return distance_callback\n",
    "\n",
    "    def time_function_callback(self):\n",
    "        node_to_location = {\n",
    "            node: self.get_node_location(node)\n",
    "            for node in range(self.routing_model.nodes())\n",
    "        }\n",
    "        node_to_duration = {\n",
    "            node: self.get_node_duration(node)\n",
    "            for node in range(self.routing_model.nodes())\n",
    "        }\n",
    "\n",
    "        def time_function(from_node, to_node):\n",
    "            from_duration = node_to_duration[from_node]\n",
    "            from_location = node_to_location[from_node]\n",
    "            to_location = node_to_location[to_node]\n",
    "\n",
    "            return (\n",
    "                from_duration +\n",
    "                crow_fly_duration(from_location, to_location)\n",
    "            )\n",
    "        return time_function"
   ]
  },
  {
   "cell_type": "code",
   "execution_count": 7,
   "metadata": {
    "collapsed": true
   },
   "outputs": [],
   "source": [
    "with open('places.json') as f:\n",
    "    interesting_places = json.load(f)\n",
    "\n",
    "work_nodes = [\n",
    "    {\n",
    "        'id': 'Sankt Oberholz',\n",
    "        'constraints': {\n",
    "            'time_window_start': '7:00:00',\n",
    "            'time_window_end': '11:00:00',\n",
    "        },\n",
    "        'coordinates': {\n",
    "            'latitude': 52.529763,\n",
    "            'longitude': 13.407482\n",
    "        },\n",
    "        'type': 'work',\n",
    "        'duration': 4\n",
    "    },\n",
    "    {\n",
    "        'id': 'Sankt Oberholz',\n",
    "        'constraints': {\n",
    "            'time_window_start': '11:00:00',\n",
    "        },\n",
    "        'coordinates': {\n",
    "            'latitude': 52.529763,\n",
    "            'longitude': 13.407482\n",
    "        },\n",
    "        'type': 'work',\n",
    "        'duration': 4\n",
    "    },\n",
    "]\n",
    "\n",
    "hotel_node_start = {\n",
    "    'id': 'Mercure Hotel',\n",
    "    'constraints': {\n",
    "        'time_window_end': '10:00:00',\n",
    "    },\n",
    "    'coordinates': {\n",
    "        'latitude': 52.524388,\n",
    "        'longitude': 13.420468\n",
    "    },\n",
    "    'type': 'rest',\n",
    "    'duration': 8\n",
    "}\n",
    "\n",
    "hotel_node_end = {\n",
    "    'id': 'Mercure Hotel',\n",
    "    'constraints': {\n",
    "        'time_window_end': '10:00:00',\n",
    "    },\n",
    "    'coordinates': {\n",
    "        'latitude': 52.524388,\n",
    "        'longitude': 13.420468\n",
    "    },\n",
    "    'type': 'rest',\n",
    "    'duration': 0\n",
    "}\n",
    "\n",
    "number_of_days = 1\n",
    "\n",
    "hotel_node_starts = [hotel_node_start] * number_of_days\n",
    "hotel_node_ends = [hotel_node_end] * number_of_days\n",
    "\n",
    "all_visits = interesting_places + work_nodes\n",
    "start_indexes = list(\n",
    "    range(\n",
    "        len(all_visits),\n",
    "        len(all_visits) + number_of_days\n",
    "    )\n",
    ")\n",
    "all_visits += hotel_node_starts\n",
    "end_indexes = list(\n",
    "    range(\n",
    "        len(all_visits),\n",
    "        len(all_visits) + number_of_days\n",
    "    )\n",
    ")\n",
    "all_visits += hotel_node_ends"
   ]
  },
  {
   "cell_type": "code",
   "execution_count": 8,
   "metadata": {
    "collapsed": true
   },
   "outputs": [],
   "source": [
    "model = OptimizationModel(\n",
    "    all_visits, start_indexes=start_indexes, end_indexes=end_indexes\n",
    ")"
   ]
  },
  {
   "cell_type": "code",
   "execution_count": 9,
   "metadata": {},
   "outputs": [
    {
     "name": "stdout",
     "output_type": "stream",
     "text": [
      "Found solution! Total distance: 13 km\n"
     ]
    }
   ],
   "source": [
    "model.solve()"
   ]
  },
  {
   "cell_type": "code",
   "execution_count": 10,
   "metadata": {},
   "outputs": [
    {
     "data": {
      "text/plain": [
       "True"
      ]
     },
     "execution_count": 10,
     "metadata": {},
     "output_type": "execute_result"
    }
   ],
   "source": [
    "webbrowser.open_new_tab(model.show())"
   ]
  },
  {
   "cell_type": "code",
   "execution_count": null,
   "metadata": {
    "collapsed": true
   },
   "outputs": [],
   "source": []
  }
 ],
 "metadata": {
  "kernelspec": {
   "display_name": "Python 2",
   "language": "python",
   "name": "python2"
  },
  "language_info": {
   "codemirror_mode": {
    "name": "ipython",
    "version": 2
   },
   "file_extension": ".py",
   "mimetype": "text/x-python",
   "name": "python",
   "nbconvert_exporter": "python",
   "pygments_lexer": "ipython2",
   "version": "2.7.13"
  }
 },
 "nbformat": 4,
 "nbformat_minor": 2
}
