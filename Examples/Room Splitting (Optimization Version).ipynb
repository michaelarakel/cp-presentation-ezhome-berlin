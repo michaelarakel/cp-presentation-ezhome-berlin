{
 "cells": [
  {
   "cell_type": "code",
   "execution_count": 1,
   "metadata": {
    "collapsed": true
   },
   "outputs": [],
   "source": [
    "from __future__ import print_function\n",
    "from ortools.constraint_solver import pywrapcp"
   ]
  },
  {
   "cell_type": "code",
   "execution_count": 2,
   "metadata": {
    "collapsed": true
   },
   "outputs": [],
   "source": [
    "people = [\n",
    "        'Alexey Alekseev',\n",
    "        'Alexey Mironov',\n",
    "        'Alexey Eskov',\n",
    "        'Alexey Evseev',\n",
    "        'Anton Rodin',\n",
    "        'Arshdeep Singh',\n",
    "        'Egor Sachko',\n",
    "        'Erik Hinterbichler',\n",
    "        'Danyi Gergely',\n",
    "        'Ihor Bykov',\n",
    "        'Ilya Tikhonov',\n",
    "        'Kirill Klokov',\n",
    "        'Luis del Giudice Sierra',\n",
    "        'Mikael Arakelian',\n",
    "        'Nikolay Fokin',\n",
    "        'Oleg Khomyuk',\n",
    "        'Oleksii Solianik',\n",
    "        'Owais Lone',\n",
    "        'Spyridon Oikonomakis',\n",
    "        'Tigran Najaryan',\n",
    "        'Vadim Goncharov'\n",
    "]"
   ]
  },
  {
   "cell_type": "code",
   "execution_count": 3,
   "metadata": {
    "collapsed": true
   },
   "outputs": [],
   "source": [
    "snoring_people = {\n",
    "        'Oleg Khomyuk', 'Owais Lone', 'Luis del Giudice Sierra', 'Ilya Tikhonov',\n",
    "    }"
   ]
  },
  {
   "cell_type": "code",
   "execution_count": 6,
   "metadata": {
    "collapsed": true
   },
   "outputs": [],
   "source": [
    "hates_snores = {\n",
    "        'Tigran Najaryan', 'Erik Hinterbichler', 'Alexey Eskov'\n",
    "}"
   ]
  },
  {
   "cell_type": "code",
   "execution_count": 7,
   "metadata": {},
   "outputs": [],
   "source": [
    "constraints = [\n",
    "        (hates_snoring, snores)\n",
    "        for hates_snoring in hates_snores\n",
    "        for snores in snoring_people\n",
    "]\n",
    "n = len(people)"
   ]
  },
  {
   "cell_type": "code",
   "execution_count": 8,
   "metadata": {
    "collapsed": true
   },
   "outputs": [],
   "source": [
    "person_index = {\n",
    "    person: index\n",
    "    for index, person in enumerate(people)\n",
    "}\n",
    "index_to_person = dict(\n",
    "    list(enumerate(people))\n",
    ")"
   ]
  },
  {
   "cell_type": "code",
   "execution_count": 9,
   "metadata": {
    "collapsed": true
   },
   "outputs": [],
   "source": [
    "solver = pywrapcp.Solver('room splitting optimization')"
   ]
  },
  {
   "cell_type": "code",
   "execution_count": 10,
   "metadata": {
    "collapsed": true
   },
   "outputs": [],
   "source": [
    "neighbour_vars = [\n",
    "    solver.IntVar(\n",
    "        0, n - 1, 'neighbour of {0}'.format(\n",
    "            person\n",
    "        )\n",
    "    )\n",
    "    for person in people\n",
    "]"
   ]
  },
  {
   "cell_type": "code",
   "execution_count": 11,
   "metadata": {
    "collapsed": true
   },
   "outputs": [],
   "source": [
    "solver.AddConstraint(\n",
    "    solver.AllDifferent(neighbour_vars)\n",
    ")"
   ]
  },
  {
   "cell_type": "code",
   "execution_count": 12,
   "metadata": {
    "collapsed": true
   },
   "outputs": [],
   "source": [
    "for constraint in constraints:\n",
    "    first_person, second_person = constraint\n",
    "    solver.AddConstraint(\n",
    "        neighbour_vars[person_index[first_person]] !=\n",
    "        person_index[second_person]\n",
    "    )\n",
    "    solver.AddConstraint(\n",
    "        neighbour_vars[person_index[second_person]] !=\n",
    "        person_index[first_person]\n",
    "    )"
   ]
  },
  {
   "cell_type": "code",
   "execution_count": 13,
   "metadata": {
    "collapsed": true
   },
   "outputs": [],
   "source": [
    "for index, neighbor_var in enumerate(neighbour_vars):\n",
    "    solver.AddConstraint(\n",
    "        solver.Element(neighbour_vars, neighbor_var) == index\n",
    "    )"
   ]
  },
  {
   "cell_type": "code",
   "execution_count": 14,
   "metadata": {
    "collapsed": true
   },
   "outputs": [],
   "source": [
    "number_of_rooms = solver.IntVar(0, n, 'number of rooms')  # Variable to optimize"
   ]
  },
  {
   "cell_type": "code",
   "execution_count": 15,
   "metadata": {
    "collapsed": true
   },
   "outputs": [],
   "source": [
    "solver.AddConstraint(\n",
    "    number_of_rooms == solver.Sum([\n",
    "        neighbor_var == index\n",
    "        for index, neighbor_var in enumerate(neighbour_vars)\n",
    "    ])\n",
    ")"
   ]
  },
  {
   "cell_type": "code",
   "execution_count": 18,
   "metadata": {},
   "outputs": [
    {
     "data": {
      "text/plain": [
       "<ortools.constraint_solver.pywrapcp.IntVarElement; proxy of <Swig Object of type 'operations_research::IntVarElement *' at 0x10c0a3ed0> >"
      ]
     },
     "execution_count": 18,
     "metadata": {},
     "output_type": "execute_result"
    }
   ],
   "source": [
    "solution = solver.Assignment()\n",
    "solution.Add(neighbour_vars)\n",
    "solution.Add(number_of_rooms)"
   ]
  },
  {
   "cell_type": "code",
   "execution_count": 19,
   "metadata": {
    "collapsed": true
   },
   "outputs": [],
   "source": [
    "objective = solver.Minimize(\n",
    "    number_of_rooms, 4\n",
    ")"
   ]
  },
  {
   "cell_type": "code",
   "execution_count": 20,
   "metadata": {},
   "outputs": [],
   "source": [
    "solution_collector = solver.AllSolutionCollector(solution)  # We need it to collect all of the solutions"
   ]
  },
  {
   "cell_type": "code",
   "execution_count": 21,
   "metadata": {},
   "outputs": [
    {
     "data": {
      "text/plain": [
       "True"
      ]
     },
     "execution_count": 21,
     "metadata": {},
     "output_type": "execute_result"
    }
   ],
   "source": [
    "solver.Solve(solver.DefaultPhase(neighbour_vars), [solution_collector, objective])"
   ]
  },
  {
   "cell_type": "code",
   "execution_count": 24,
   "metadata": {},
   "outputs": [
    {
     "name": "stdout",
     "output_type": "stream",
     "text": [
      "6\n"
     ]
    }
   ],
   "source": [
    "num_solutions = solution_collector.SolutionCount()\n",
    "print(num_solutions)"
   ]
  },
  {
   "cell_type": "code",
   "execution_count": 25,
   "metadata": {},
   "outputs": [
    {
     "name": "stdout",
     "output_type": "stream",
     "text": [
      "Solution #1\n",
      "Room #1: Alexey Alekseev\n",
      "Room #2: Alexey Mironov\n",
      "Room #3: Alexey Eskov\n",
      "Room #4: Alexey Evseev\n",
      "Room #5: Anton Rodin\n",
      "Room #6: Arshdeep Singh\n",
      "Room #7: Egor Sachko\n",
      "Room #8: Erik Hinterbichler\n",
      "Room #9: Danyi Gergely\n",
      "Room #10: Ihor Bykov\n",
      "Room #11: Ilya Tikhonov\n",
      "Room #12: Kirill Klokov\n",
      "Room #13: Luis del Giudice Sierra\n",
      "Room #14: Mikael Arakelian\n",
      "Room #15: Nikolay Fokin\n",
      "Room #16: Oleg Khomyuk\n",
      "Room #17: Oleksii Solianik\n",
      "Room #18: Owais Lone\n",
      "Room #19: Spyridon Oikonomakis\n",
      "Room #20: Tigran Najaryan\n",
      "Room #21: Vadim Goncharov\n",
      "Solution #2\n",
      "Room #1: Alexey Alekseev\n",
      "Room #2: Alexey Mironov\n",
      "Room #3: Alexey Eskov, Erik Hinterbichler\n",
      "Room #4: Alexey Evseev\n",
      "Room #5: Anton Rodin\n",
      "Room #6: Arshdeep Singh\n",
      "Room #7: Egor Sachko\n",
      "Room #8: Danyi Gergely\n",
      "Room #9: Ihor Bykov\n",
      "Room #10: Ilya Tikhonov\n",
      "Room #11: Kirill Klokov\n",
      "Room #12: Luis del Giudice Sierra\n",
      "Room #13: Mikael Arakelian\n",
      "Room #14: Nikolay Fokin\n",
      "Room #15: Oleg Khomyuk, Owais Lone\n",
      "Room #16: Oleksii Solianik\n",
      "Room #17: Spyridon Oikonomakis\n",
      "Room #18: Tigran Najaryan\n",
      "Room #19: Vadim Goncharov\n",
      "Solution #3\n",
      "Room #1: Alexey Alekseev\n",
      "Room #2: Alexey Mironov\n",
      "Room #3: Alexey Eskov, Kirill Klokov\n",
      "Room #4: Alexey Evseev\n",
      "Room #5: Anton Rodin\n",
      "Room #6: Arshdeep Singh\n",
      "Room #7: Egor Sachko\n",
      "Room #8: Erik Hinterbichler, Tigran Najaryan\n",
      "Room #9: Danyi Gergely\n",
      "Room #10: Ihor Bykov\n",
      "Room #11: Ilya Tikhonov, Luis del Giudice Sierra\n",
      "Room #12: Mikael Arakelian\n",
      "Room #13: Nikolay Fokin\n",
      "Room #14: Oleg Khomyuk, Owais Lone\n",
      "Room #15: Oleksii Solianik\n",
      "Room #16: Spyridon Oikonomakis\n",
      "Room #17: Vadim Goncharov\n",
      "Solution #4\n",
      "Room #1: Alexey Alekseev\n",
      "Room #2: Alexey Mironov\n",
      "Room #3: Alexey Eskov, Arshdeep Singh\n",
      "Room #4: Alexey Evseev\n",
      "Room #5: Anton Rodin\n",
      "Room #6: Egor Sachko, Tigran Najaryan\n",
      "Room #7: Erik Hinterbichler, Kirill Klokov\n",
      "Room #8: Danyi Gergely\n",
      "Room #9: Ihor Bykov, Luis del Giudice Sierra\n",
      "Room #10: Ilya Tikhonov, Oleg Khomyuk\n",
      "Room #11: Mikael Arakelian\n",
      "Room #12: Nikolay Fokin\n",
      "Room #13: Oleksii Solianik, Owais Lone\n",
      "Room #14: Spyridon Oikonomakis\n",
      "Room #15: Vadim Goncharov\n",
      "Solution #5\n",
      "Room #1: Alexey Alekseev\n",
      "Room #2: Alexey Mironov\n",
      "Room #3: Alexey Eskov, Ihor Bykov\n",
      "Room #4: Alexey Evseev\n",
      "Room #5: Anton Rodin, Tigran Najaryan\n",
      "Room #6: Arshdeep Singh, Luis del Giudice Sierra\n",
      "Room #7: Egor Sachko, Erik Hinterbichler\n",
      "Room #8: Danyi Gergely, Oleg Khomyuk\n",
      "Room #9: Ilya Tikhonov, Owais Lone\n",
      "Room #10: Kirill Klokov, Mikael Arakelian\n",
      "Room #11: Nikolay Fokin, Oleksii Solianik\n",
      "Room #12: Spyridon Oikonomakis\n",
      "Room #13: Vadim Goncharov\n",
      "Solution #6\n",
      "Room #1: Alexey Alekseev, Ilya Tikhonov\n",
      "Room #2: Alexey Mironov, Luis del Giudice Sierra\n",
      "Room #3: Alexey Eskov, Danyi Gergely\n",
      "Room #4: Alexey Evseev, Owais Lone\n",
      "Room #5: Anton Rodin, Egor Sachko\n",
      "Room #6: Arshdeep Singh, Oleg Khomyuk\n",
      "Room #7: Erik Hinterbichler, Ihor Bykov\n",
      "Room #8: Kirill Klokov, Tigran Najaryan\n",
      "Room #9: Mikael Arakelian, Nikolay Fokin\n",
      "Room #10: Oleksii Solianik, Vadim Goncharov\n",
      "Room #11: Spyridon Oikonomakis\n"
     ]
    }
   ],
   "source": [
    "for solution_num in range(num_solutions):\n",
    "    print('Solution #{0}'.format(solution_num + 1))\n",
    "    room_number = 1\n",
    "    for index, neighbor_var in enumerate(neighbour_vars):\n",
    "        first_person = index\n",
    "        neighbour = solution_collector.Value(solution_num, neighbor_var)\n",
    "        if first_person < neighbour:\n",
    "            print(\n",
    "                'Room #{0}: {1}, {2}'.format(\n",
    "                    room_number, index_to_person[first_person],\n",
    "                    index_to_person[neighbour]\n",
    "                )\n",
    "            )\n",
    "            room_number += 1\n",
    "        if first_person == neighbour:\n",
    "            print(\n",
    "                'Room #{0}: {1}'.format(\n",
    "                    room_number, index_to_person[first_person]\n",
    "                )\n",
    "            )\n",
    "            room_number += 1"
   ]
  },
  {
   "cell_type": "code",
   "execution_count": null,
   "metadata": {
    "collapsed": true
   },
   "outputs": [],
   "source": []
  }
 ],
 "metadata": {
  "kernelspec": {
   "display_name": "Python 2",
   "language": "python",
   "name": "python2"
  },
  "language_info": {
   "codemirror_mode": {
    "name": "ipython",
    "version": 2
   },
   "file_extension": ".py",
   "mimetype": "text/x-python",
   "name": "python",
   "nbconvert_exporter": "python",
   "pygments_lexer": "ipython2",
   "version": "2.7.13"
  }
 },
 "nbformat": 4,
 "nbformat_minor": 2
}
