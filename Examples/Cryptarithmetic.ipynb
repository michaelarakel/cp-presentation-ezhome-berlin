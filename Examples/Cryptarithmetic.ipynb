{
 "cells": [
  {
   "cell_type": "code",
   "execution_count": 1,
   "metadata": {
    "collapsed": true
   },
   "outputs": [],
   "source": [
    "from __future__ import print_function\n",
    "from ortools.constraint_solver import pywrapcp"
   ]
  },
  {
   "cell_type": "code",
   "execution_count": 2,
   "metadata": {
    "collapsed": true
   },
   "outputs": [],
   "source": [
    "def word_to_expression(word, letter_to_variable):\n",
    "    expression = 0\n",
    "    for letter in word:\n",
    "        expression = expression * 10 + letter_to_variable[letter]\n",
    "\n",
    "    return expression"
   ]
  },
  {
   "cell_type": "code",
   "execution_count": 3,
   "metadata": {
    "collapsed": true
   },
   "outputs": [],
   "source": [
    "def solve(word1, word2, word3):\n",
    "    letters = set(word1 + word2 + word3)\n",
    "    if len(letters) > 10:\n",
    "        return False\n",
    "    letters = set(word1 + word2 + word3)\n",
    "    digit_range = range(10)\n",
    "    solver = pywrapcp.Solver(\"cp_is_fun\")\n",
    "    letter_to_variable = {\n",
    "        letter: solver.IntVar(digit_range)\n",
    "        for letter in letters\n",
    "    }\n",
    "    solver.Add(\n",
    "        word_to_expression(word1, letter_to_variable) +\n",
    "        word_to_expression(word2, letter_to_variable) ==\n",
    "        word_to_expression(word3, letter_to_variable)\n",
    "    )\n",
    "\n",
    "    solver.Add(letter_to_variable[word1[0]] != 0)\n",
    "    solver.Add(letter_to_variable[word2[0]] != 0)\n",
    "    solver.Add(letter_to_variable[word3[0]] != 0)\n",
    "    solver.Add(solver.AllDifferent(letter_to_variable.values()))\n",
    "\n",
    "    decision_builder = solver.DefaultPhase(\n",
    "        letter_to_variable.values()\n",
    "    )\n",
    "\n",
    "    solver.NewSearch(decision_builder)\n",
    "    if not solver.NextSolution():\n",
    "        return {\n",
    "            letter: None\n",
    "            for letter in letters\n",
    "        }\n",
    "\n",
    "    return {\n",
    "        letter: variable.Value()\n",
    "        for letter, variable in letter_to_variable.items()\n",
    "    }"
   ]
  },
  {
   "cell_type": "code",
   "execution_count": 4,
   "metadata": {
    "collapsed": true
   },
   "outputs": [],
   "source": [
    "word1, word2, word3 = 'GREEN', 'GARDEN', 'EZHOME'"
   ]
  },
  {
   "cell_type": "code",
   "execution_count": 5,
   "metadata": {
    "collapsed": true
   },
   "outputs": [],
   "source": [
    "solution = solve(word1, word2, word3)"
   ]
  },
  {
   "cell_type": "code",
   "execution_count": 6,
   "metadata": {
    "collapsed": true
   },
   "outputs": [],
   "source": [
    "def map_word_to_solution(word, solution):\n",
    "    number = 0\n",
    "    for letter in word:\n",
    "        number = number * 10 + solution[letter]\n",
    "    return number"
   ]
  },
  {
   "cell_type": "code",
   "execution_count": 7,
   "metadata": {},
   "outputs": [
    {
     "data": {
      "text/plain": [
       "True"
      ]
     },
     "execution_count": 7,
     "metadata": {},
     "output_type": "execute_result"
    }
   ],
   "source": [
    "map_word_to_solution(word1, solution) + map_word_to_solution(word2, solution) == map_word_to_solution(word3, solution)"
   ]
  },
  {
   "cell_type": "code",
   "execution_count": 8,
   "metadata": {},
   "outputs": [
    {
     "data": {
      "text/plain": [
       "'51668 + 591068 ==  642736'"
      ]
     },
     "execution_count": 8,
     "metadata": {},
     "output_type": "execute_result"
    }
   ],
   "source": [
    "str(map_word_to_solution(word1, solution)) + \" + \" + str(map_word_to_solution(word2, solution)) +  \" ==  \" + str(map_word_to_solution(word3, solution))"
   ]
  },
  {
   "cell_type": "code",
   "execution_count": 9,
   "metadata": {},
   "outputs": [
    {
     "name": "stdout",
     "output_type": "stream",
     "text": [
      "{'A': 9, 'E': 6, 'D': 0, 'G': 5, 'H': 2, 'M': 3, 'O': 7, 'N': 8, 'R': 1, 'Z': 4}\n"
     ]
    }
   ],
   "source": [
    "print(solution)"
   ]
  },
  {
   "cell_type": "code",
   "execution_count": null,
   "metadata": {
    "collapsed": true
   },
   "outputs": [],
   "source": []
  }
 ],
 "metadata": {
  "kernelspec": {
   "display_name": "Python 2",
   "language": "python",
   "name": "python2"
  },
  "language_info": {
   "codemirror_mode": {
    "name": "ipython",
    "version": 2
   },
   "file_extension": ".py",
   "mimetype": "text/x-python",
   "name": "python",
   "nbconvert_exporter": "python",
   "pygments_lexer": "ipython2",
   "version": "2.7.13"
  }
 },
 "nbformat": 4,
 "nbformat_minor": 2
}
