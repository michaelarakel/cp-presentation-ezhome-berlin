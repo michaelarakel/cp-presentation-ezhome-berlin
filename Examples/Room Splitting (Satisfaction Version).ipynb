{
 "cells": [
  {
   "cell_type": "code",
   "execution_count": 1,
   "metadata": {
    "collapsed": true
   },
   "outputs": [],
   "source": [
    "from __future__ import print_function\n",
    "from ortools.constraint_solver import pywrapcp"
   ]
  },
  {
   "cell_type": "code",
   "execution_count": 2,
   "metadata": {
    "collapsed": true
   },
   "outputs": [],
   "source": [
    "people = [\n",
    "        'Alexey Alekseev',\n",
    "        'Alexey Mironov',\n",
    "        'Alexey Eskov',\n",
    "        'Alexey Evseev',\n",
    "        'Anton Rodin',\n",
    "        'Arshdeep Singh',\n",
    "        'Egor Sachko',\n",
    "        'Erik Hinterbichler',\n",
    "        'Danyi Gergely',\n",
    "        'Ihor Bykov',\n",
    "        'Ilya Tikhonov',\n",
    "        'Kirill Klokov',\n",
    "        'Luis del Giudice Sierra',\n",
    "        'Mikael Arakelian',\n",
    "        'Nikolay Fokin',\n",
    "        'Oleg Khomyuk',\n",
    "        'Oleksii Solianik',\n",
    "        'Owais Lone',\n",
    "        'Spyridon Oikonomakis',\n",
    "        'Tigran Najaryan',\n",
    "        'Vadim Goncharov'\n",
    "    ]"
   ]
  },
  {
   "cell_type": "code",
   "execution_count": 5,
   "metadata": {},
   "outputs": [
    {
     "name": "stdout",
     "output_type": "stream",
     "text": [
      "21\n"
     ]
    }
   ],
   "source": [
    "print(len(people))"
   ]
  },
  {
   "cell_type": "code",
   "execution_count": 6,
   "metadata": {
    "collapsed": true
   },
   "outputs": [],
   "source": [
    "snoring_people = {\n",
    "        'Oleg Khomyuk', 'Owais Lone', 'Luis del Giudice Sierra', 'Ilya Tikhonov',\n",
    "    }"
   ]
  },
  {
   "cell_type": "code",
   "execution_count": 7,
   "metadata": {
    "collapsed": true
   },
   "outputs": [],
   "source": [
    "hates_snoring_people = {\n",
    "        'Tigran Najaryan', 'Erik Hinterbichler', 'Alexey Eskov'\n",
    "}"
   ]
  },
  {
   "cell_type": "code",
   "execution_count": 8,
   "metadata": {
    "collapsed": true
   },
   "outputs": [],
   "source": [
    "number_of_rooms = 13"
   ]
  },
  {
   "cell_type": "code",
   "execution_count": 9,
   "metadata": {
    "collapsed": true
   },
   "outputs": [],
   "source": [
    "solver = pywrapcp.Solver('Room splitting')"
   ]
  },
  {
   "cell_type": "code",
   "execution_count": 10,
   "metadata": {
    "collapsed": true
   },
   "outputs": [],
   "source": [
    "room_number_var = {\n",
    "        person: solver.IntVar(\n",
    "            0, number_of_rooms - 1, 'room of {person}'.format(person=person)\n",
    "        )\n",
    "        for person in people\n",
    "    }"
   ]
  },
  {
   "cell_type": "code",
   "execution_count": 11,
   "metadata": {
    "collapsed": true
   },
   "outputs": [],
   "source": [
    "constraints = [\n",
    "        (hates_snoring, snores)\n",
    "        for hates_snoring in hates_snoring_people\n",
    "        for snores in snoring_people\n",
    "    ]"
   ]
  },
  {
   "cell_type": "code",
   "execution_count": 12,
   "metadata": {
    "collapsed": true
   },
   "outputs": [],
   "source": [
    "for constraint in constraints:\n",
    "    first, second = constraint\n",
    "    solver.AddConstraint(\n",
    "        room_number_var[first] !=\n",
    "        room_number_var[second]\n",
    "    )"
   ]
  },
  {
   "cell_type": "code",
   "execution_count": 13,
   "metadata": {
    "collapsed": true
   },
   "outputs": [],
   "source": [
    "# At most 2 people in one room\n",
    "for room_number in range(number_of_rooms):\n",
    "    solver.Add(\n",
    "        sum(person_room == room_number for person_room in room_number_var.values()) <= 2\n",
    "    )"
   ]
  },
  {
   "cell_type": "code",
   "execution_count": 14,
   "metadata": {
    "collapsed": true
   },
   "outputs": [],
   "source": [
    "decision_builder = solver.DefaultPhase(room_number_var.values())\n",
    "solver.NewSearch(decision_builder)"
   ]
  },
  {
   "cell_type": "code",
   "execution_count": 15,
   "metadata": {},
   "outputs": [
    {
     "name": "stdout",
     "output_type": "stream",
     "text": [
      "Vadim Goncharov -> 1\n",
      "Oleksii Solianik -> 4\n",
      "Nikolay Fokin -> 4\n",
      "Alexey Evseev -> 5\n",
      "Mikael Arakelian -> 5\n",
      "Owais Lone -> 2\n",
      "Ihor Bykov -> 6\n",
      "Kirill Klokov -> 6\n",
      "Anton Rodin -> 7\n",
      "Ilya Tikhonov -> 2\n",
      "Danyi Gergely -> 7\n",
      "Alexey Mironov -> 8\n",
      "Arshdeep Singh -> 8\n",
      "Luis del Giudice Sierra -> 3\n",
      "Tigran Najaryan -> 0\n",
      "Alexey Alekseev -> 9\n",
      "Spyridon Oikonomakis -> 9\n",
      "Egor Sachko -> 10\n",
      "Alexey Eskov -> 0\n",
      "Erik Hinterbichler -> 1\n",
      "Oleg Khomyuk -> 3\n"
     ]
    }
   ],
   "source": [
    "if solver.NextSolution():\n",
    "    for person, room_number in room_number_var.items():\n",
    "        print(\n",
    "            '{person} -> {room_number}'.format(\n",
    "                person=person,\n",
    "                room_number=room_number.Value()\n",
    "            )\n",
    "        )\n",
    "else:\n",
    "    print('No Solution :(')"
   ]
  },
  {
   "cell_type": "code",
   "execution_count": null,
   "metadata": {
    "collapsed": true
   },
   "outputs": [],
   "source": []
  }
 ],
 "metadata": {
  "kernelspec": {
   "display_name": "Python 2",
   "language": "python",
   "name": "python2"
  },
  "language_info": {
   "codemirror_mode": {
    "name": "ipython",
    "version": 2
   },
   "file_extension": ".py",
   "mimetype": "text/x-python",
   "name": "python",
   "nbconvert_exporter": "python",
   "pygments_lexer": "ipython2",
   "version": "2.7.13"
  }
 },
 "nbformat": 4,
 "nbformat_minor": 2
}
